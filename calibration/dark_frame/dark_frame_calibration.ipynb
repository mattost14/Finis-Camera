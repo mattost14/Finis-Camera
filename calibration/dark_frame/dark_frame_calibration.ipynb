{
 "cells": [
  {
   "cell_type": "markdown",
   "metadata": {},
   "source": [
    "# Dark Frame Calibration"
   ]
  },
  {
   "cell_type": "code",
   "execution_count": null,
   "metadata": {},
   "outputs": [],
   "source": [
    "%load_ext autoreload\n",
    "%autoreload 2\n",
    "\n",
    "import numpy as np\n",
    "import matplotlib.pyplot as plt\n",
    "import matplotlib.image as mpimg\n",
    "from PIL import Image\n",
    "from tifffile import imwrite\n",
    "\n",
    "\n",
    "import sys\n",
    "sys.path.append('../../tauSWIRcamera')  # Add the path to the directory containing file_to_import.py\n",
    "from tauSWIRcamera import tauSWIRcamera\n",
    "\n",
    "plt.rcParams[\"font.family\"] = \"Times New Roman\""
   ]
  },
  {
   "cell_type": "code",
   "execution_count": null,
   "metadata": {},
   "outputs": [],
   "source": [
    "hostname = '129.123.5.125'\n",
    "port = 4000\n",
    "cam = tauSWIRcamera(\"Industrial\", hostname, port)\n",
    "cameraFolder = \"CAM1\"\n",
    "saveTIFdata = True"
   ]
  },
  {
   "cell_type": "markdown",
   "metadata": {},
   "source": [
    "## Data Acquisition"
   ]
  },
  {
   "cell_type": "code",
   "execution_count": null,
   "metadata": {},
   "outputs": [],
   "source": [
    "def runDarkFrameAnalysis(gain, N=50):\n",
    "    ### Set gain ###\n",
    "    cam.setSensorGain(gain)\n",
    "\n",
    "    # Integration time vector\n",
    "    intTime_ms = np.linspace(1,30,30)\n",
    "    intTime_ms = np.insert(intTime_ms, 0, 0.011)\n",
    "\n",
    "    # FPA possible setpoint temperatures\n",
    "    FPA_temp_setpoint_options = [0, 20, 40, 45] #oC\n",
    "\n",
    "\n",
    "    fig, ax = plt.subplots()\n",
    "    marker = {20: '-o', 40:'-s'}\n",
    "    color = {20: 'blue',40:'red'}\n",
    "    for fpaTemp in [20, 40]:\n",
    "        # Set FPA setpoint temp\n",
    "        print(f\"Set FPA temp to {fpaTemp}oC\")\n",
    "        cam.setFPATempSetPoint(FPA_temp_setpoint_options.index(fpaTemp))\n",
    "        df_mean  = np.array([])\n",
    "        df_mean_estimated = np.array([])\n",
    "        df_std  = np.array([])\n",
    "        df_estimated_std = np.array([])\n",
    "        for t_ms in intTime_ms:\n",
    "            # Set Integration Time\n",
    "            print(f\"Set integration time to {t_ms}\")\n",
    "            cam.setIntTime(t_ms)\n",
    "            # Collect frames\n",
    "            df_stack = cam.collectFrame(N)\n",
    "            # Save the stack of images as a multi-page TIFF file\n",
    "            if saveTIFdata:\n",
    "                imwrite(f'{cameraFolder}/raw_images_stack_{gain}_{fpaTemp}C_{cameraFolder}_expTime_{t_ms}ms.tif', df_stack)\n",
    "            # Compute mean and std of the dark frame stack\n",
    "            dark_frame_mean = np.mean(df_stack, axis=0)\n",
    "            dark_frame_std = np.std(df_stack, axis=0)\n",
    "            # Save the mean and std of dark frame \n",
    "            if saveTIFdata:\n",
    "                imwrite(f'{cameraFolder}/dark_frame_{gain}_{fpaTemp}C_{cameraFolder}_expTime_{t_ms}ms.tif', dark_frame_mean)\n",
    "                imwrite(f'{cameraFolder}/dark_frame_std_{gain}_{fpaTemp}C_{cameraFolder}_expTime_{t_ms}ms.tif', dark_frame_std)\n",
    "            \n",
    "            ### Compute Statistics\n",
    "            # Subtrack the bias frame\n",
    "            # bias_frame_stack = np.expand_dims(bias_frame, axis=0) # Add a new axis to make it 3D\n",
    "            # df_stack_biasFree_int32 = df_stack.astype(np.int32) - bias_frame_stack.astype(np.int32)\n",
    "\n",
    "            df_data = df_stack\n",
    "            # Remove outliers\n",
    "            mask_deadPixels = abs(df_data.mean(axis=0)-df_data.mean()) > 5*df_data.std()\n",
    "            numDeadPixels = np.sum(mask_deadPixels)\n",
    "            # Recompute mean and std ignoring the dead pixels\n",
    "            # Apply the mask to the stack of arrays\n",
    "            # Repeat the 2D mask along the third dimension to make it compatible with the 3D array\n",
    "            mask_deadPixels_stack = np.tile(mask_deadPixels[None, :, :], (df_data.shape[0], 1, 1))\n",
    "            masked_df = np.ma.masked_array(df_data, mask_deadPixels_stack)\n",
    "\n",
    "            df_mean = np.append(df_mean, np.mean(masked_df))\n",
    "            df_std = np.append(df_std, np.std(masked_df))\n",
    "\n",
    "            df_mean_estimated = np.append(df_mean_estimated, cam.darkFrameMeanCounts())\n",
    "            df_estimated_std = np.append(df_estimated_std, cam.getNoiseCount_Std())\n",
    "            print(f\"Num of dead pixels: {numDeadPixels}\")\n",
    "            print(f\"mean: {round(np.mean(masked_df))}, std: {round(np.std(masked_df))}\")\n",
    "            print(f\"FPA actual temp: {cam.getFPAtemp()}\")\n",
    "            print(\" \")\n",
    "        # Plot results\n",
    "        ax.errorbar(intTime_ms, df_mean, yerr=df_std, label=f\"FPA Temp. (\\N{DEGREE SIGN}C): {cam.getFPAtemp()}\", capsize=10, marker='o', markersize=5, fmt=marker[fpaTemp], color=color[fpaTemp])\n",
    "        # Fill area between the two error bars\n",
    "        plt.fill_between(intTime_ms, df_mean - df_std, df_mean + df_std, color=color[fpaTemp], alpha=0.2)\n",
    "\n",
    "\n",
    "        # ax.errorbar(intTime_ms, df_mean_estimated, yerr=df_estimated_std, label=f\"Estimated ({gain} gain)\", capsize=10, marker='*', markersize=5)\n",
    "    plt.suptitle(f\"Dark frame analysis\", fontsize = 14, fontweight=\"bold\")\n",
    "    plt.title(f\"{cameraFolder} - Gain Mode: {gain}\", fontsize = 12)\n",
    "    plt.ylabel(\"Counts\")\n",
    "    plt.xlabel(\"Integration time (ms)\")\n",
    "    plt.legend()   \n",
    "    plt.grid() \n",
    "    # Display the mean and standard deviation\n",
    "    plt.text(0.98, 0.05, f'Error bar size: 2σ\\n Num. frames per sample: {N}', horizontalalignment='right', verticalalignment='center', transform=plt.gca().transAxes, fontsize=10)\n",
    "    # Save the plot as a PDF file\n",
    "    plt.savefig(f'{cameraFolder}/dark_frame_analysis_{gain}_{cameraFolder}.pdf', format='pdf')\n",
    "    plt.show()\n"
   ]
  },
  {
   "cell_type": "code",
   "execution_count": null,
   "metadata": {},
   "outputs": [],
   "source": [
    "## LOW GAIN\n",
    "runDarkFrameAnalysis(\"low\", N=25)"
   ]
  },
  {
   "cell_type": "code",
   "execution_count": null,
   "metadata": {},
   "outputs": [],
   "source": [
    "cam.setSensorGain(\"low\")\n",
    "cam.setFPATempSetPoint(1)\n",
    "cam.setIntTime(0.011)\n",
    "print(np.std(cam.collectFrame(25)))"
   ]
  },
  {
   "cell_type": "code",
   "execution_count": null,
   "metadata": {},
   "outputs": [],
   "source": [
    "## Medium GAIN\n",
    "runDarkFrameAnalysis(\"medium\", N=25)"
   ]
  },
  {
   "cell_type": "code",
   "execution_count": null,
   "metadata": {},
   "outputs": [],
   "source": [
    "## High GAIN\n",
    "runDarkFrameAnalysis(\"high\", N=25)"
   ]
  },
  {
   "cell_type": "code",
   "execution_count": null,
   "metadata": {},
   "outputs": [],
   "source": []
  }
 ],
 "metadata": {
  "kernelspec": {
   "display_name": "oss-camera",
   "language": "python",
   "name": "python3"
  },
  "language_info": {
   "codemirror_mode": {
    "name": "ipython",
    "version": 3
   },
   "file_extension": ".py",
   "mimetype": "text/x-python",
   "name": "python",
   "nbconvert_exporter": "python",
   "pygments_lexer": "ipython3",
   "version": "3.9.10"
  }
 },
 "nbformat": 4,
 "nbformat_minor": 2
}
